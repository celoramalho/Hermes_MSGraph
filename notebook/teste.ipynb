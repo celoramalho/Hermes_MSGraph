{
 "cells": [
  {
   "cell_type": "code",
   "execution_count": 1,
   "metadata": {},
   "outputs": [],
   "source": [
    "from msgraph_email import MSGraphAPI\n",
    "import yaml\n",
    "import pandas\n",
    "from bs4 import BeautifulSoup"
   ]
  },
  {
   "cell_type": "code",
   "execution_count": 2,
   "metadata": {},
   "outputs": [],
   "source": [
    "pandas.set_option('display.max_columns', 40)"
   ]
  },
  {
   "cell_type": "code",
   "execution_count": 3,
   "metadata": {},
   "outputs": [],
   "source": [
    "with open('api_text.yml', 'r') as file:\n",
    "    data_yml = yaml.full_load(file)\n",
    "\n",
    "email_address = 'gustavo.rambaldi@fitenergia.com.br'"
   ]
  },
  {
   "cell_type": "code",
   "execution_count": 4,
   "metadata": {},
   "outputs": [
    {
     "name": "stdout",
     "output_type": "stream",
     "text": [
      "bdecaadd-b9fc-434b-941b-b5a0dd752dc4\n"
     ]
    }
   ],
   "source": [
    "print(data_yml['graph_app']['tenant_id'])\n",
    "\n",
    "client_secret = data_yml['graph_app']['client_secret']\n",
    "client_id = data_yml['graph_app']['client_id']\n",
    "tenant_id = data_yml['graph_app']['tenant_id']"
   ]
  },
  {
   "cell_type": "code",
   "execution_count": 5,
   "metadata": {},
   "outputs": [],
   "source": [
    "api = MSGraphAPI(**data_yml['graph_app']) #client_id: \"\" client_secret: \"\" tenant_id: \"\""
   ]
  },
  {
   "cell_type": "code",
   "execution_count": 6,
   "metadata": {},
   "outputs": [],
   "source": [
    "df_emails = api.get_df_emails('rc.rpa@fitenergia.com.br', 1)"
   ]
  },
  {
   "cell_type": "code",
   "execution_count": 7,
   "metadata": {},
   "outputs": [],
   "source": [
    "df_full_emails = api.get_raw_df_emails('rc.rpa@fitenergia.com.br', 1)"
   ]
  },
  {
   "cell_type": "code",
   "execution_count": 9,
   "metadata": {},
   "outputs": [
    {
     "name": "stdout",
     "output_type": "stream",
     "text": [
      "['https://nam10.safelinks.protection.outlook.com/?url=https%3A%2F%2Fagencia.elektro.com.br%2Flogin.aspx&data=05%7C02%7Crc.rpa%40fitenergia.com.br%7Cf753d9fe37df4d84e0be08dcf3b1ae5b%7Cbdecaaddb9fc434b941bb5a0dd752dc4%7C0%7C0%7C638653192040294570%7CUnknown%7CTWFpbGZsb3d8eyJWIjoiMC4wLjAwMDAiLCJQIjoiV2luMzIiLCJBTiI6Ik1haWwiLCJXVCI6Mn0%3D%7C0%7C%7C%7C&sdata=NFAku%2Bpo%2FKcq3BazCETOLSX3mQBQ1Is9NakeO0xbx5g%3D&reserved=0', 'https://nam10.safelinks.protection.outlook.com/?url=https%3A%2F%2Fagencia.elektro.com.br%2Flogin.aspx&data=05%7C02%7Crc.rpa%40fitenergia.com.br%7Cf753d9fe37df4d84e0be08dcf3b1ae5b%7Cbdecaaddb9fc434b941bb5a0dd752dc4%7C0%7C0%7C638653192040319887%7CUnknown%7CTWFpbGZsb3d8eyJWIjoiMC4wLjAwMDAiLCJQIjoiV2luMzIiLCJBTiI6Ik1haWwiLCJXVCI6Mn0%3D%7C0%7C%7C%7C&sdata=s9cVsvt1i1cKBL8mIJlsmeGGb8MFwRN1INm1VvD13XQ%3D&reserved=0', 'https://nam10.safelinks.protection.outlook.com/?url=https%3A%2F%2Fagencia.elektro.com.br%2Flogin.aspx&data=05%7C02%7Crc.rpa%40fitenergia.com.br%7Cf753d9fe37df4d84e0be08dcf3b1ae5b%7Cbdecaaddb9fc434b941bb5a0dd752dc4%7C0%7C0%7C638653192040334395%7CUnknown%7CTWFpbGZsb3d8eyJWIjoiMC4wLjAwMDAiLCJQIjoiV2luMzIiLCJBTiI6Ik1haWwiLCJXVCI6Mn0%3D%7C0%7C%7C%7C&sdata=a3mV3G7WsL9yvtbT%2F4pHAkQp2B8Fd4fBrdLET6tpW%2FE%3D&reserved=0', 'https://nam10.safelinks.protection.outlook.com/?url=https%3A%2F%2Fbit.ly%2Fneoenergiaoficial&data=05%7C02%7Crc.rpa%40fitenergia.com.br%7Cf753d9fe37df4d84e0be08dcf3b1ae5b%7Cbdecaaddb9fc434b941bb5a0dd752dc4%7C0%7C0%7C638653192040350909%7CUnknown%7CTWFpbGZsb3d8eyJWIjoiMC4wLjAwMDAiLCJQIjoiV2luMzIiLCJBTiI6Ik1haWwiLCJXVCI6Mn0%3D%7C0%7C%7C%7C&sdata=OOgNgq9Mm0Mq1wZoEsjQNNqlunIKlwVH1UgHy16w5Xk%3D&reserved=0']\n"
     ]
    }
   ],
   "source": [
    "\n",
    "\n",
    "# Convert 'sentDateTime' to datetime and sort emails by the most recent\n",
    "df_sorted = df_emails .sort_values(by='sentDateTime', ascending=False)\n",
    "# Get the most recent email and extract its body content\n",
    "most_recent_email = df_sorted.iloc[0]\n",
    "email_body = most_recent_email['body.content']\n",
    "\n",
    "# Parse the email body with BeautifulSoup to find the reset link\n",
    "soup = BeautifulSoup(email_body, 'lxml')\n",
    "links = [a['href'] for a in soup.find_all('a', href=True)]\n",
    "\n",
    "# Return the first link found (assuming it's the reset link)\n",
    "\n",
    "if links:\n",
    "    print(links)\n",
    "else:\n",
    "    print(\"No reset link found in the most recent password reset email.\")\n"
   ]
  }
 ],
 "metadata": {
  "kernelspec": {
   "display_name": "venv-anubis",
   "language": "python",
   "name": "python3"
  },
  "language_info": {
   "codemirror_mode": {
    "name": "ipython",
    "version": 3
   },
   "file_extension": ".py",
   "mimetype": "text/x-python",
   "name": "python",
   "nbconvert_exporter": "python",
   "pygments_lexer": "ipython3",
   "version": "3.12.3"
  }
 },
 "nbformat": 4,
 "nbformat_minor": 2
}
